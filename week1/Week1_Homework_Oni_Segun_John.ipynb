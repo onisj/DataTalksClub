{
 "cells": [
  {
   "cell_type": "markdown",
   "id": "bbee87ba",
   "metadata": {},
   "source": [
    "## Set up the environment"
   ]
  },
  {
   "cell_type": "code",
   "execution_count": 1,
   "id": "2815da1c",
   "metadata": {},
   "outputs": [],
   "source": [
    "#pip install ....."
   ]
  },
  {
   "cell_type": "code",
   "execution_count": 32,
   "id": "6f572699",
   "metadata": {},
   "outputs": [],
   "source": [
    "import pandas as pd\n",
    "import numpy as np"
   ]
  },
  {
   "cell_type": "markdown",
   "id": "6e4792c2",
   "metadata": {},
   "source": [
    "## Question 1\n",
    "What's the version of Pandas that you installed?\n",
    "\n",
    "You can get the version information using the __version__ field:"
   ]
  },
  {
   "cell_type": "code",
   "execution_count": 3,
   "id": "7d27bc83",
   "metadata": {},
   "outputs": [
    {
     "data": {
      "text/plain": [
       "'2.0.3'"
      ]
     },
     "execution_count": 3,
     "metadata": {},
     "output_type": "execute_result"
    }
   ],
   "source": [
    "pd.__version__"
   ]
  },
  {
   "cell_type": "markdown",
   "id": "f84d9e9e",
   "metadata": {},
   "source": [
    "### Downloading dataset"
   ]
  },
  {
   "cell_type": "code",
   "execution_count": 4,
   "id": "915f6f3f",
   "metadata": {},
   "outputs": [
    {
     "name": "stdout",
     "output_type": "stream",
     "text": [
      "Download successful.\n"
     ]
    }
   ],
   "source": [
    "import requests\n",
    "\n",
    "url = \"https://raw.githubusercontent.com/alexeygrigorev/datasets/master/housing.csv\"\n",
    "response = requests.get(url)\n",
    "\n",
    "if response.status_code == 200:\n",
    "    with open(\"housing.csv\", \"wb\") as file:\n",
    "        file.write(response.content)\n",
    "    print(\"Download successful.\")\n",
    "else:\n",
    "    print(\"Download failed. Status code:\", response.status_code)"
   ]
  },
  {
   "cell_type": "markdown",
   "id": "32f88292",
   "metadata": {},
   "source": [
    "## Question 2\n",
    "How many columns are in the dataset?"
   ]
  },
  {
   "cell_type": "code",
   "execution_count": 5,
   "id": "c6763641",
   "metadata": {},
   "outputs": [
    {
     "data": {
      "text/plain": [
       "10"
      ]
     },
     "execution_count": 5,
     "metadata": {},
     "output_type": "execute_result"
    }
   ],
   "source": [
    "data = pd.read_csv('housing.csv')\n",
    "data.shape[1]"
   ]
  },
  {
   "cell_type": "markdown",
   "id": "af3bea9e",
   "metadata": {},
   "source": [
    "## Question 3\n",
    "Which columns in the dataset have missing values?"
   ]
  },
  {
   "cell_type": "code",
   "execution_count": 9,
   "id": "6211d46a",
   "metadata": {},
   "outputs": [
    {
     "name": "stdout",
     "output_type": "stream",
     "text": [
      "Columns with missing values:\n",
      "total_bedrooms    207\n",
      "dtype: int64\n"
     ]
    }
   ],
   "source": [
    "# Check for missing values in each column\n",
    "missing_values = data.isnull().sum()\n",
    "\n",
    "# Filter columns with missing values (where the count of missing values is greater than zero)\n",
    "columns_with_missing_values = missing_values[missing_values > 0]\n",
    "\n",
    "# Display the columns with missing values\n",
    "print(\"Columns with missing values:\")\n",
    "print(columns_with_missing_values)"
   ]
  },
  {
   "cell_type": "markdown",
   "id": "e8b827a1",
   "metadata": {},
   "source": [
    "## Question 4\n",
    "How many unique values does the ocean_proximity column have?"
   ]
  },
  {
   "cell_type": "code",
   "execution_count": 10,
   "id": "b61c6f1d",
   "metadata": {},
   "outputs": [
    {
     "data": {
      "text/plain": [
       "5"
      ]
     },
     "execution_count": 10,
     "metadata": {},
     "output_type": "execute_result"
    }
   ],
   "source": [
    "data['ocean_proximity'].nunique()"
   ]
  },
  {
   "cell_type": "markdown",
   "id": "d206757c",
   "metadata": {},
   "source": [
    "## Question 5\n",
    "What's the average value of the median_house_value for the houses located near the bay?"
   ]
  },
  {
   "cell_type": "code",
   "execution_count": 11,
   "id": "851ebed7",
   "metadata": {},
   "outputs": [
    {
     "name": "stdout",
     "output_type": "stream",
     "text": [
      "Average value of 'column_name': 259212.31179039303\n"
     ]
    }
   ],
   "source": [
    "# Getting Houses near bay\n",
    "house_near_bay = data[data['ocean_proximity'] == \"NEAR BAY\"]\n",
    "\n",
    "# Replace 'column_name' with the name of the column you want to calculate the average for\n",
    "average_value = house_near_bay['median_house_value'].mean()\n",
    "\n",
    "# Printing the average value of Houses near bay\n",
    "print(\"Average value of 'column_name':\", average_value)"
   ]
  },
  {
   "cell_type": "markdown",
   "id": "b750bb2e",
   "metadata": {},
   "source": [
    "## Question 6\n",
    "1. Calculate the average of `total_bedrooms` column in the dataset.\n",
    "2. Use the `fillna` method to fill the missing values in `total_bedrooms` with the mean value from the previous step.\n",
    "3. Now, calculate the average of `total_bedrooms` again.\n",
    "4. Has it changed?"
   ]
  },
  {
   "cell_type": "code",
   "execution_count": 12,
   "id": "4626bbce",
   "metadata": {},
   "outputs": [
    {
     "data": {
      "text/plain": [
       "537.8705525375618"
      ]
     },
     "execution_count": 12,
     "metadata": {},
     "output_type": "execute_result"
    }
   ],
   "source": [
    "# Calculating the average of total_bedrooms\n",
    "avg_total_bed = data['total_bedrooms'].mean()\n",
    "avg_total_bed"
   ]
  },
  {
   "cell_type": "code",
   "execution_count": 13,
   "id": "933b6104",
   "metadata": {},
   "outputs": [
    {
     "data": {
      "text/plain": [
       "537.8705525375617"
      ]
     },
     "execution_count": 13,
     "metadata": {},
     "output_type": "execute_result"
    }
   ],
   "source": [
    "# Filling the missing values with the `avg_value`\n",
    "data['total_bedrooms'].fillna(avg_total_bed, inplace=True)\n",
    "\n",
    "# Calculating the new average of total_bedrooms\n",
    "new_avg_total_bed = data['total_bedrooms'].mean()\n",
    "new_avg_total_bed"
   ]
  },
  {
   "cell_type": "markdown",
   "id": "69b26dc0",
   "metadata": {},
   "source": [
    "## Question 7\n",
    "\n",
    "1. Select all the options located on islands.\n",
    "2. Select only columns `housing_median_age`, `total_rooms`, `total_bedrooms`.\n",
    "3. Get the underlying NumPy array. Let's call it `X`.\n",
    "4. Compute matrix-matrix multiplication between the transpose of `X` and `X`. To get the transpose, use `X.T`. Let's call the result `XTX`.\n",
    "5. Compute the inverse of `XTX`.\n",
    "6. Create an array `y` with values `[950, 1300, 800, 1000, 1300]`.\n",
    "7. Multiply the inverse of `XTX` with the transpose of `X`, and then multiply the result by `y`. Call the result `w`.\n",
    "8. What's the value of the last element of `w`?"
   ]
  },
  {
   "cell_type": "code",
   "execution_count": 37,
   "id": "6827bb40",
   "metadata": {},
   "outputs": [
    {
     "name": "stdout",
     "output_type": "stream",
     "text": [
      "Value of the last element of w: 5.699229455065575\n"
     ]
    }
   ],
   "source": [
    "# Selecting all options located on islands\n",
    "island_only = data[data['ocean_proximity'] == 'ISLAND']\n",
    "\n",
    "# Selecting only columns 'housing_median_age', 'total_rooms', 'total_bedrooms'\n",
    "selected_columns = island_only[['housing_median_age', 'total_rooms', 'total_bedrooms']]\n",
    "\n",
    "# Get the underlying NumPy array (X)\n",
    "X = selected_columns.values\n",
    "\n",
    "# Compute XTX\n",
    "XTX = X.T.dot(X)\n",
    "\n",
    "# Compute the inverse of XTX\n",
    "XTX_inv = np.linalg.inv(XTX)\n",
    "\n",
    "# Create an array y with values [950, 1300, 800, 1000, 1300]\n",
    "y = np.array([950, 1300, 800, 1000, 1300])\n",
    "\n",
    "# Multiply the inverse of XTX with the transpose of X, and then multiply by y (w)\n",
    "w = XTX_inv.dot(X.T).dot(y)\n",
    "\n",
    "# Find the value of the last element of w\n",
    "last_element_of_w = w[-1]\n",
    "\n",
    "print(\"Value of the last element of w:\", last_element_of_w)"
   ]
  },
  {
   "cell_type": "code",
   "execution_count": null,
   "id": "975101f4",
   "metadata": {},
   "outputs": [],
   "source": []
  }
 ],
 "metadata": {
  "kernelspec": {
   "display_name": "Python 3 (ipykernel)",
   "language": "python",
   "name": "python3"
  },
  "language_info": {
   "codemirror_mode": {
    "name": "ipython",
    "version": 3
   },
   "file_extension": ".py",
   "mimetype": "text/x-python",
   "name": "python",
   "nbconvert_exporter": "python",
   "pygments_lexer": "ipython3",
   "version": "3.9.17"
  }
 },
 "nbformat": 4,
 "nbformat_minor": 5
}
